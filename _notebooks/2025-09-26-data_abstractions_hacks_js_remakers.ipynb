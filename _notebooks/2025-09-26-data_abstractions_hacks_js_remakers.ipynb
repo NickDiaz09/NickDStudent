{
 "cells": [
  {
   "cell_type": "code",
   "execution_count": null,
   "id": "e4102f0e",
   "metadata": {},
   "outputs": [],
   "source": [
    "---\n",
    "toc: true\n",
    "comments: false\n",
    "layout: post\n",
    "categories: [CSP Big Idea 3]\n",
    "title: 3.2 Data Abstractions JS Hack\n",
    "author: Jaynee Chauhan, Michelle Ji, Lucas Masterson\n",
    "description: Hack(s) for intro to data abstractions in JS.\n",
    "type: ccc\n",
    "permalink: /csp/big-idea-3/data-abstractions/p4/hacks-js\n",
    "---"
   ]
  },
  {
   "cell_type": "markdown",
   "id": "690b4172",
   "metadata": {},
   "source": [
    "## JS Lab: Library\n",
    "\n",
    "In this lab, similarly to the Python lab, you'll be working on a simple \"database\" for a library to understand CRUD operations in relation to representing redundant, similar data under one structure -- an abstraction.\n",
    "\n",
    "For JavaScript, you'll have to open the web console from Developer Tools (`ctrl + shift + p` -> `Developer: Toggle developer tools`)."
   ]
  },
  {
   "cell_type": "code",
   "execution_count": 5,
   "id": "d7228dda",
   "metadata": {
    "vscode": {
     "languageId": "javascript"
    }
   },
   "outputs": [
    {
     "data": {
      "application/javascript": "let library = [\n    { title: \"1984\", author: \"George Orwell\", checkedOut: false },\n    { title: \"To Kill a Mockingbird\", author: \"Harper Lee\", checkedOut: true },\n    { title: \"The Great Gatsby\", author: \"F. Scott Fitzgerald\", checkedOut: false }\n];\n\n// Display all books\nfunction displayLibrary(lib) {\n    console.log(\"All books in the library:\");\n    lib.forEach((book, i) => {\n        console.log(`Index ${i}:`, book);\n    });\n}\n\n// Add a new book\nfunction addBook(lib) {\n    let title = prompt(\"Enter book title:\");\n    let author = prompt(\"Enter author:\");\n    let checkedOutInput = prompt(\"Is the book checked out? (yes/no):\").toLowerCase();\n    let checkedOut = checkedOutInput === \"yes\" ? true : false;\n\n    lib.push({ title: title, author: author, checkedOut: checkedOut });\n    console.log(`Added \"${title}\" to the library.`);\n}\n\n// Find a book by title\nfunction findBook(lib, searchTitle) {\n    let found = lib.find(book => book.title.toLowerCase() === searchTitle.toLowerCase());\n    if (found) {\n        console.log(\"Book found:\", found);\n    } else {\n        console.log(`No book found with title \"${searchTitle}\".`);\n    }\n}\n\nfunction updateBook(lib, searchTitle) {\n    let index = lib.findIndex(book => book.title.toLowerCase() === searchTitle.toLowerCase());\n    if (index !== -1) {\n        let newStatusInput = prompt(`Is \"${lib[index].title}\" checked out? (yes/no):`).toLowerCase();\n        lib[index].checkedOut = newStatusInput === \"yes\" ? true : false;\n        console.log(`Updated \"${lib[index].title}\" checkedOut status to ${lib[index].checkedOut}.`);\n    } else {\n        console.log(`No book found with title \"${searchTitle}\".`);\n    }\n}\n\n// Delete a book\nfunction deleteBook(lib, searchTitle) {\n    let index = lib.findIndex(book => book.title.toLowerCase() === searchTitle.toLowerCase());\n    if (index !== -1) {\n        let removed = lib.splice(index, 1);\n        console.log(`Deleted \"${removed[0].title}\" from the library.`);\n    } else {\n        console.log(`No book found with title \"${searchTitle}\".`);\n    }\n}\n\n// Example usage\ndisplayLibrary(library);\n// addBook(library);\n// findBook(library, \"1984\");\n// updateBook(library, \"To Kill a Mockingbird\");\n// deleteBook(library, \"The Great Gatsby\");\n// displayLibrary(library);\n",
      "text/plain": [
       "<IPython.core.display.Javascript object>"
      ]
     },
     "metadata": {},
     "output_type": "display_data"
    }
   ],
   "source": [
    "%%js\n",
    "let library = [\n",
    "    { title: \"1984\", author: \"George Orwell\", checkedOut: false },\n",
    "    { title: \"To Kill a Mockingbird\", author: \"Harper Lee\", checkedOut: true },\n",
    "    { title: \"The Great Gatsby\", author: \"F. Scott Fitzgerald\", checkedOut: false }\n",
    "];\n",
    "\n",
    "// Display all books\n",
    "function displayLibrary(lib) {\n",
    "    console.log(\"All books in the library:\");\n",
    "    lib.forEach((book, i) => {\n",
    "        console.log(`Index ${i}:`, book);\n",
    "    });\n",
    "}\n",
    "\n",
    "// Add a new book\n",
    "function addBook(lib) {\n",
    "    let title = prompt(\"Enter book title:\");\n",
    "    let author = prompt(\"Enter author:\");\n",
    "    let checkedOutInput = prompt(\"Is the book checked out? (yes/no):\").toLowerCase();\n",
    "    let checkedOut = checkedOutInput === \"yes\" ? true : false;\n",
    "\n",
    "    lib.push({ title: title, author: author, checkedOut: checkedOut });\n",
    "    console.log(`Added \"${title}\" to the library.`);\n",
    "}\n",
    "\n",
    "// Find a book by title\n",
    "function findBook(lib, searchTitle) {\n",
    "    let found = lib.find(book => book.title.toLowerCase() === searchTitle.toLowerCase());\n",
    "    if (found) {\n",
    "        console.log(\"Book found:\", found);\n",
    "    } else {\n",
    "        console.log(`No book found with title \"${searchTitle}\".`);\n",
    "    }\n",
    "}\n",
    "\n",
    "function updateBook(lib, searchTitle) {\n",
    "    let index = lib.findIndex(book => book.title.toLowerCase() === searchTitle.toLowerCase());\n",
    "    if (index !== -1) {\n",
    "        let newStatusInput = prompt(`Is \"${lib[index].title}\" checked out? (yes/no):`).toLowerCase();\n",
    "        lib[index].checkedOut = newStatusInput === \"yes\" ? true : false;\n",
    "        console.log(`Updated \"${lib[index].title}\" checkedOut status to ${lib[index].checkedOut}.`);\n",
    "    } else {\n",
    "        console.log(`No book found with title \"${searchTitle}\".`);\n",
    "    }\n",
    "}\n",
    "\n",
    "// Delete a book\n",
    "function deleteBook(lib, searchTitle) {\n",
    "    let index = lib.findIndex(book => book.title.toLowerCase() === searchTitle.toLowerCase());\n",
    "    if (index !== -1) {\n",
    "        let removed = lib.splice(index, 1);\n",
    "        console.log(`Deleted \"${removed[0].title}\" from the library.`);\n",
    "    } else {\n",
    "        console.log(`No book found with title \"${searchTitle}\".`);\n",
    "    }\n",
    "}\n",
    "\n",
    "// Example usage\n",
    "displayLibrary(library);\n",
    "// addBook(library);\n",
    "// findBook(library, \"1984\");\n",
    "// updateBook(library, \"To Kill a Mockingbird\");\n",
    "// deleteBook(library, \"The Great Gatsby\");\n",
    "// displayLibrary(library);"
   ]
  }
 ],
 "metadata": {
  "kernelspec": {
   "display_name": "Python 3",
   "language": "python",
   "name": "python3"
  },
  "language_info": {
   "codemirror_mode": {
    "name": "ipython",
    "version": 3
   },
   "file_extension": ".py",
   "mimetype": "text/x-python",
   "name": "python",
   "nbconvert_exporter": "python",
   "pygments_lexer": "ipython3",
   "version": "3.13.5"
  }
 },
 "nbformat": 4,
 "nbformat_minor": 5
}
