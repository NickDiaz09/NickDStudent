{
 "cells": [
  {
   "cell_type": "raw",
   "id": "6e07d1a7",
   "metadata": {
    "vscode": {
     "languageId": "raw"
    }
   },
   "source": [
    "---\n",
    "layout: post\n",
    "title: \"Escape Room 3.15 - Hacks & Extensions\"\n",
    "description: \"Extended Python challenges and hacks for CSP 3.15 Escape Room - Random Values\"\n",
    "type: hacks\n",
    "toc: true\n",
    "comments: true\n",
    "permalink: /3.15/homework/python\n",
    "author: Team Debuggers\n",
    "---\n"
   ]
  },
  {
   "cell_type": "markdown",
   "id": "9f874417",
   "metadata": {},
   "source": [
    "# 🚀 Escape Room Python Hacks\n"
   ]
  },
  {
   "cell_type": "markdown",
   "id": "7aedbe34",
   "metadata": {},
   "source": [
    "1. Simulate rolling two dice and show all possible sums of their outcomes."
   ]
  },
  {
   "cell_type": "code",
   "execution_count": null,
   "id": "a73638bf",
   "metadata": {},
   "outputs": [],
   "source": [
    "# 🎲 Die faces: 1, 2, 3, 4, 5, 6\n",
    "# TODO: Write code to calculate and display all possible sums\n",
    "# Hint: You may need two nested loops\n",
    "die_faces = [1, 2, 3, 4, 5, 6]\n",
    "\n",
    "for die1 in die_faces:\n",
    "    for die2 in die_faces:\n",
    "        total = die1 + die2\n",
    "        print(f\"{die1} + {die2} = {total}\")"
   ]
  },
  {
   "cell_type": "markdown",
   "id": "323ac43a",
   "metadata": {},
   "source": [
    "2. Create a fortune teller program. The response \"Try Again\" should appear 40% of the time, while the other possible responses are \"Yes\", \"No\", and \"Maybe\"."
   ]
  },
  {
   "cell_type": "code",
   "execution_count": null,
   "id": "c608c7e8",
   "metadata": {},
   "outputs": [],
   "source": [
    "import random\n",
    "\n",
    "num = random.randint(1, 100)\n",
    "\n",
    "if num <= 25:\n",
    "    print(\"Try Again\")\n",
    "elif num <= 50:\n",
    "    print(\"Yes\")\n",
    "elif num <= 75:\n",
    "    print(\"No\")\n",
    "else:\n",
    "    print(\"Maybe\")"
   ]
  },
  {
   "cell_type": "code",
   "execution_count": null,
   "id": "238c0d58",
   "metadata": {},
   "outputs": [],
   "source": []
  },
  {
   "cell_type": "markdown",
   "id": "f5f6ad02",
   "metadata": {},
   "source": [
    "3. Create a program that randomly selects a meal from a menu list. For example: \"Pizza\", \"Burger\", \"Salad\", \"Pasta\", \"Sushi\"."
   ]
  },
  {
   "cell_type": "code",
   "execution_count": null,
   "id": "623d5cec",
   "metadata": {},
   "outputs": [],
   "source": [
    "import random\n",
    "\n",
    "meals = [\"Pizza\", \"Burger\", \"Sushi\", \"Pasta\", \"Tacos\", \"Salad\"]\n",
    "\n",
    "meal_of_the_day = random.choice(meals)\n",
    "print(\"Today's meal:\", meal_of_the_day)"
   ]
  },
  {
   "cell_type": "markdown",
   "id": "e230199d",
   "metadata": {},
   "source": [
    "4. Practice using random.choice() and random.shuffle().\n",
    "\n",
    "- Use random.choice() to select one random card from a deck.\n",
    "\n",
    "- Use random.shuffle() to shuffle the entire deck."
   ]
  },
  {
   "cell_type": "code",
   "execution_count": 1,
   "id": "9efcd451",
   "metadata": {},
   "outputs": [
    {
     "name": "stdout",
     "output_type": "stream",
     "text": [
      "Picked card: 6\n",
      "Shuffled deck: [5, 6, 8, 10, 2, 4, 9, 7, 1, 3]\n"
     ]
    }
   ],
   "source": [
    "import random\n",
    "\n",
    "deck = [1,2,3,4,5,6,7,8,9,10]\n",
    "\n",
    "picked_card = random.choice(deck)\n",
    "print(\"Picked card:\", picked_card)\n",
    "\n",
    "random.shuffle(deck)\n",
    "print(\"Shuffled deck:\", deck)"
   ]
  }
 ],
 "metadata": {
  "kernelspec": {
   "display_name": "Python 3",
   "language": "python",
   "name": "python3"
  },
  "language_info": {
   "codemirror_mode": {
    "name": "ipython",
    "version": 3
   },
   "file_extension": ".py",
   "mimetype": "text/x-python",
   "name": "python",
   "nbconvert_exporter": "python",
   "pygments_lexer": "ipython3",
   "version": "3.13.5"
  }
 },
 "nbformat": 4,
 "nbformat_minor": 5
}
