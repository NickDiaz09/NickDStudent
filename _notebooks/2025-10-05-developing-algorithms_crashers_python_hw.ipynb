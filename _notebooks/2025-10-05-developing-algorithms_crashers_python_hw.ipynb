{
 "cells": [
  {
   "cell_type": "raw",
   "id": "b4676d32",
   "metadata": {
    "vscode": {
     "languageId": "raw"
    }
   },
   "source": [
    "---\n",
    "layout: post\n",
    "title: Crashers - 3.9 Developing Algorithms Python Hacks\n",
    "categories: [Python]\n",
    "tags: [python, algorithms, boolean, conditionals, beginner]\n",
    "description: Learn how to develop algorithms through the Peppa Pig Maze game\n",
    "permalink: /python/developing-algorithms/crashers-hw\n",
    "---"
   ]
  },
  {
   "cell_type": "markdown",
   "id": "527376be",
   "metadata": {},
   "source": [
    "# 🐷 Peppa's Algorithm Adventures - Python Hacks\n",
    "\n",
    "Welcome to Peppa's Python algorithm challenges! Complete these three hacks to master algorithm development with interactive Python examples."
   ]
  },
  {
   "cell_type": "markdown",
   "id": "7602d3e2",
   "metadata": {},
   "source": [
    "## Hack 1: Peppa's Muddy Puddle Finder Algorithm �️\n",
    "\n",
    "Help Peppa create an algorithm to find the best muddy puddles to jump in!\n",
    "\n",
    "**Your task:** Write a complete algorithm that checks multiple conditions to find perfect puddles."
   ]
  },
  {
   "cell_type": "code",
   "execution_count": null,
   "id": "2c7f4584",
   "metadata": {},
   "outputs": [],
   "source": [
    "def find_perfect_puddle(width, depth, muddiness, has_leaves):\n",
    "    \"\"\"\n",
    "    Algorithm to determine if a puddle is perfect for jumping\n",
    "    A perfect puddle must be:\n",
    "    - Wide enough (at least 3 feet)\n",
    "    - Not too deep (less than 1 foot) \n",
    "    - Muddy enough (muddiness score > 5)\n",
    "    - Have no leaves floating in it\n",
    "    \"\"\"\n",
    "    print(f\"🔍 Checking puddle: {width}ft wide, {depth}ft deep, muddiness={muddiness}, leaves={has_leaves}\")\n",
    "    \n",
    "    if width < 3:\n",
    "        print(\"❌ Too narrow! Peppa needs at least 3 feet to jump properly.\")\n",
    "        return \"too_narrow\"\n",
    "    elif depth >= 1:\n",
    "        print(\"❌ Too deep! Peppa might get her boots stuck.\")\n",
    "        return \"too_deep\"\n",
    "    elif muddiness <= 5:\n",
    "        print(\"❌ Not muddy enough! Peppa loves really muddy puddles.\")\n",
    "        return \"not_muddy\"\n",
    "    elif has_leaves:\n",
    "        print(\"❌ Has leaves floating! Peppa doesn't like leaves in her puddles.\")\n",
    "        return \"has_leaves\"\n",
    "    else:\n",
    "        print(\"✅ Perfect puddle! Peppa will love jumping in this one!\")\n",
    "        return \"perfect\"\n",
    "\n",
    "def test_puddle_algorithm():\n",
    "    print(\"🐷 Peppa's Puddle Testing Algorithm\")\n",
    "    \n",
    "    puddles = [\n",
    "        {\"width\": 4, \"depth\": 0.5, \"muddiness\": 8, \"has_leaves\": False},\n",
    "        {\"width\": 2, \"depth\": 0.3, \"muddiness\": 7, \"has_leaves\": False},\n",
    "        {\"width\": 5, \"depth\": 1.5, \"muddiness\": 9, \"has_leaves\": False},\n",
    "        {\"width\": 4, \"depth\": 0.4, \"muddiness\": 3, \"has_leaves\": False},\n",
    "        {\"width\": 6, \"depth\": 0.6, \"muddiness\": 8, \"has_leaves\": True},\n",
    "    ]\n",
    "    \n",
    "    perfect_puddles = 0\n",
    "    \n",
    "    for i, puddle in enumerate(puddles, 1):\n",
    "        print(f\"\\n--- Testing Puddle {i} ---\")\n",
    "        result = find_perfect_puddle(puddle[\"width\"], puddle[\"depth\"], \n",
    "                                     puddle[\"muddiness\"], puddle[\"has_leaves\"])\n",
    "        if result == \"perfect\":\n",
    "            perfect_puddles += 1\n",
    "    \n",
    "    print(f\"\\n🎉 Peppa found {perfect_puddles} perfect puddles out of {len(puddles)}!\")\n",
    "\n",
    "test_puddle_algorithm()"
   ]
  },
  {
   "cell_type": "markdown",
   "id": "f55b7af8",
   "metadata": {},
   "source": [
    "## Hack 2: George's Dinosaur Hunt Algorithm �\n",
    "\n",
    "Help George create an algorithm to search for his toy dinosaurs around the house!\n",
    "\n",
    "**Your task:** Build a search algorithm that follows a logical sequence to find dinosaurs."
   ]
  },
  {
   "cell_type": "code",
   "execution_count": 1,
   "id": "75f523d2",
   "metadata": {},
   "outputs": [
    {
     "name": "stdout",
     "output_type": "stream",
     "text": [
      "🐷 George's Dinosaur Hunt Algorithm\n",
      "George is looking for his favorite T-Rex!\n",
      "\n",
      "🔍 Starting systematic search...\n",
      "🦕 Searching in Living Room...\n",
      "   Has toys: True, Messy: False, Last played: False\n",
      "   🧹 Clean room with toys - quick search needed.\n",
      "   🔍 Checking toy boxes... No dinosaur here.\n",
      "\n",
      "🦕 Searching in Bedroom...\n",
      "   Has toys: True, Messy: True, Last played: True\n",
      "   🎯 This is where George last played! High chance of finding dinosaur.\n",
      "   🔍 Looking carefully... Found it! The T-Rex was under some toys!\n",
      "🎉 George found his dinosaur after searching 2 rooms!\n"
     ]
    }
   ],
   "source": [
    "def search_for_dinosaur(room_name, has_toys, is_messy, last_played_here):\n",
    "    \"\"\"\n",
    "    Algorithm to search for George's missing dinosaur\n",
    "    Search strategy:\n",
    "    1. Always check the last place he played first\n",
    "    2. Then check messy rooms (dinosaurs get lost in mess)\n",
    "    3. Then check rooms with other toys\n",
    "    4. Skip clean, empty rooms\n",
    "    \"\"\"\n",
    "    print(f\"🦕 Searching in {room_name}...\")\n",
    "    print(f\"   Has toys: {has_toys}, Messy: {is_messy}, Last played: {last_played_here}\")\n",
    "    \n",
    "    if last_played_here:\n",
    "        print(\"   🎯 This is where George last played! High chance of finding dinosaur.\")\n",
    "        print(\"   🔍 Looking carefully... Found it! The T-Rex was under some toys!\")\n",
    "        return \"found\"\n",
    "    elif is_messy and has_toys:\n",
    "        print(\"   🧸 Messy room with toys - dinosaurs could be hiding here!\")\n",
    "        print(\"   🔍 Searching through the mess... No dinosaur here.\")\n",
    "        return \"searched_messy\"\n",
    "    elif has_toys:\n",
    "        print(\"   🧹 Clean room with toys - quick search needed.\")\n",
    "        print(\"   🔍 Checking toy boxes... No dinosaur here.\")\n",
    "        return \"searched_toys\"\n",
    "    elif is_messy and not has_toys:\n",
    "        print(\"   🗑️ Messy room but no toys - dinosaur unlikely to be here.\")\n",
    "        print(\"   👀 Quick glance... Nothing here.\")\n",
    "        return \"searched_messy_no_toys\"\n",
    "    else:\n",
    "        print(\"   ✨ Clean, empty room - dinosaur definitely not here!\")\n",
    "        print(\"   ⏩ Skipping detailed search.\")\n",
    "        return \"skipped\"\n",
    "\n",
    "def georges_dinosaur_hunt():\n",
    "    \"\"\"Run George's systematic dinosaur hunt\"\"\"\n",
    "    print(\"🐷 George's Dinosaur Hunt Algorithm\")\n",
    "    print(\"George is looking for his favorite T-Rex!\")\n",
    "    \n",
    "    rooms = [\n",
    "        {\"name\": \"Living Room\", \"has_toys\": True, \"is_messy\": False, \"last_played_here\": False},\n",
    "        {\"name\": \"Bedroom\", \"has_toys\": True, \"is_messy\": True, \"last_played_here\": True},\n",
    "        {\"name\": \"Kitchen\", \"has_toys\": False, \"is_messy\": False, \"last_played_here\": False},  \n",
    "        {\"name\": \"Playroom\", \"has_toys\": True, \"is_messy\": True, \"last_played_here\": False},\n",
    "        {\"name\": \"Bathroom\", \"has_toys\": False, \"is_messy\": True, \"last_played_here\": False},\n",
    "        {\"name\": \"Garden\", \"has_toys\": False, \"is_messy\": False, \"last_played_here\": False},\n",
    "    ]\n",
    "    \n",
    "    dinosaur_found = False\n",
    "    rooms_searched = 0\n",
    "    \n",
    "    print(\"\\n🔍 Starting systematic search...\")\n",
    "    \n",
    "    for room in rooms:\n",
    "        rooms_searched += 1\n",
    "        result = search_for_dinosaur(room[\"name\"], room[\"has_toys\"], \n",
    "                                     room[\"is_messy\"], room[\"last_played_here\"])\n",
    "        if result == \"found\":\n",
    "            dinosaur_found = True\n",
    "            break\n",
    "        \n",
    "        print()\n",
    "    \n",
    "    if dinosaur_found:\n",
    "        print(f\"🎉 George found his dinosaur after searching {rooms_searched} rooms!\")\n",
    "    else:\n",
    "        print(f\"😢 George searched all {rooms_searched} rooms but didn't find his dinosaur.\")\n",
    "\n",
    "georges_dinosaur_hunt()"
   ]
  },
  {
   "cell_type": "markdown",
   "id": "53483e73",
   "metadata": {},
   "source": [
    "## 📝 What You Should Complete\n",
    "\n",
    "\n",
    "\n",
    "1. **Hack 1**: Write a complete decision-making algorithm with multiple conditions in sequence\n",
    "2. **Hack 2**: Build a search algorithm that follows a logical strategy and uses loops\n",
    "\n",
    "\n",
    "\n"
   ]
  }
 ],
 "metadata": {
  "kernelspec": {
   "display_name": "Python 3",
   "language": "python",
   "name": "python3"
  },
  "language_info": {
   "codemirror_mode": {
    "name": "ipython",
    "version": 3
   },
   "file_extension": ".py",
   "mimetype": "text/x-python",
   "name": "python",
   "nbconvert_exporter": "python",
   "pygments_lexer": "ipython3",
   "version": "3.13.5"
  }
 },
 "nbformat": 4,
 "nbformat_minor": 5
}
