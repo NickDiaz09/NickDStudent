{
 "cells": [
  {
   "cell_type": "markdown",
   "metadata": {},
   "source": [
    "# My Tools Learning Experience\n",
    "\n",
    "In this notebook, I reflect on my experience setting up and troubleshooting my development environment. I treated it like a mini learning journey, documenting both the steps I took and the lessons I learned along the way."
   ]
  },
  {
   "cell_type": "markdown",
   "metadata": {},
   "source": [
    "## GitHub Commit and Config\n",
    "\n",
    "I learned that having a properly configured GitHub username and email is crucial for committing changes. Running `git config --list` helped me verify my settings.\n",
    "- **Mistake I fixed:** My global email was incorrect, so I updated it with:\n",
    "```bash\n",
    "git config --global user.name \"NickDiaz09\"\n",
    "git config --global user.email \"nicodiazfl@gmail.com\"\n",
    "```\n",
    "Lesson: Always check your Git configuration before committing, or your commits may be misattributed."
   ]
  },
  {
   "cell_type": "markdown",
   "metadata": {},
   "source": [
    "## Directory and Repo Setup\n",
    "\n",
    "Navigating to my project directory and ensuring the repo is cloned correctly taught me the importance of file structure.\n",
    "- If the directory didn’t exist, I created it:\n",
    "```bash\n",
    "mkdir ~/NickDiaz09\n",
    "cd ~/NickDiaz09\n",
    "```\n",
    "- Then I cloned my repo:\n",
    "```bash\n",
    "git clone https://github.com/jm1021/student.git\n",
    "```\n",
    "Lesson: Knowing where your project lives on your machine prevents confusion and broken paths."
   ]
  },
  {
   "cell_type": "markdown",
   "metadata": {},
   "source": [
    "## Virtual Environment\n",
    "\n",
    "I realized that activating the virtual environment is key to keeping dependencies organized:\n",
    "```bash\n",
    "source venv/bin/activate\n",
    "```\n",
    "- If it failed, I ran the setup script `./scripts/venv.sh` and then activated again.\n",
    "Lesson: Always ensure your terminal shows `(venv)` before running Python commands. It prevents conflicts with global packages."
   ]
  },
  {
   "cell_type": "markdown",
   "metadata": {},
   "source": [
    "## VSCode and Kernel Management\n",
    "\n",
    "Opening VSCode without the correct virtual environment caused errors when running notebooks. I learned to:\n",
    "- Activate the virtual environment first.\n",
    "- Open VSCode from the terminal using `code .`\n",
    "- Select the correct Python kernel in Jupyter.\n",
    "Lesson: IDEs remember old sessions, so clearing recent projects can avoid confusion."
   ]
  },
  {
   "cell_type": "markdown",
   "metadata": {},
   "source": [
    "## Version Checks\n",
    "\n",
    "I ran several commands to check my environment:\n",
    "```bash\n",
    "python --version\n",
    "pip --version\n",
    "ruby -v\n",
    "bundle -v\n",
    "gem -v\n",
    "jupyter --version\n",
    "jupyter kernelspec list\n",
    "git config --global user.name\n",
    "git config --global user.email\n",
    "```\n",
    "Lesson: Confirming versions ensures compatibility and prevents mysterious bugs later."
   ]
  },
  {
   "cell_type": "markdown",
   "metadata": {},
   "source": [
    "## Reflection\n",
    "\n",
    "Going through this troubleshooting process taught me several things:\n",
    "1. Check configurations first; small mistakes like a wrong email can block progress.\n",
    "2. Directory and environment organization save a lot of future headaches.\n",
    "3. Activating the right virtual environment is essential for consistency.\n",
    "4. Knowing your tool versions prevents unexpected behavior.\n",
    "\n",
    "Overall, this was a hands-on lesson in patience, attention to detail, and the importance of setup before coding."
   ]
  }
 ],
 "metadata": {
  "kernelspec": {
   "display_name": "Python 3",
   "language": "python",
   "name": "python3"
  },
  "language_info": {
   "name": "python",
   "version": "3.13"
  }
 },
 "nbformat": 4,
 "nbformat_minor": 5
}
