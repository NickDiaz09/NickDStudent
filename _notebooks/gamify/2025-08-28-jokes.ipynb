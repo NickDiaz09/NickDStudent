{
 "cells": [
  {
   "cell_type": "code",
   "execution_count": 14,
   "metadata": {
    "vscode": {
     "languageId": "javascript"
    }
   },
   "outputs": [
    {
     "data": {
      "application/javascript": "let jokes_array = [ \n    \"Why don't scientists trust atoms? Because they make up everything!\",\n    \"Why did the scarecrow win an award? Because he was outstanding in his field!\",\n    \"Why did the bicycle fall over? Because it was two-tired!\",\n    \"Why don't programmers like nature? It has too many bugs.\",\n    \"I told my computer I needed a break, and it said 'No problem, I'll go to sleep.'\",\n    \"Why do Java developers wear glasses? Because they don't see sharp.\",\n    \"Why did the math book look sad? Because it had too many problems.\",\n    \"Why did the coffee file a police report? It got mugged!\"\n]\nlet randomIndex = Math.floor(Math.random() * jokes_array.length);\n\nconsole.log(\"Joke #\" + (randomIndex + 1) + \": \" + jokes_array[randomIndex]);\n\nelement.html('<h3>Random Joke:</h3><p>' + jokes_array[randomIndex] + '</p>');\n",
      "text/plain": [
       "<IPython.core.display.Javascript object>"
      ]
     },
     "metadata": {},
     "output_type": "display_data"
    }
   ],
   "source": [
    "%%javascript    \n",
    "let jokes_array = [ \n",
    "    \"Why don't scientists trust atoms? Because they make up everything!\",\n",
    "    \"Why did the scarecrow win an award? Because he was outstanding in his field!\",\n",
    "    \"Why did the bicycle fall over? Because it was two-tired!\",\n",
    "    \"Why don't programmers like nature? It has too many bugs.\",\n",
    "    \"I told my computer I needed a break, and it said 'No problem, I'll go to sleep.'\",\n",
    "    \"Why do Java developers wear glasses? Because they don't see sharp.\",\n",
    "    \"Why did the math book look sad? Because it had too many problems.\",\n",
    "    \"Why did the coffee file a police report? It got mugged!\"\n",
    "]\n",
    "let randomIndex = Math.floor(Math.random() * jokes_array.length);\n",
    "\n",
    "console.log(\"Joke #\" + (randomIndex + 1) + \": \" + jokes_array[randomIndex]);\n",
    "\n",
    "element.html('<h3>Random Joke:</h3><p>' + jokes_array[randomIndex] + '</p>');"
   ]
  },
  {
   "cell_type": "code",
   "execution_count": null,
   "metadata": {},
   "outputs": [],
   "source": []
  }
 ],
 "metadata": {
  "kernelspec": {
   "display_name": "venv",
   "language": "python",
   "name": "python3"
  },
  "language_info": {
   "codemirror_mode": {
    "name": "ipython",
    "version": 3
   },
   "file_extension": ".py",
   "mimetype": "text/x-python",
   "name": "python",
   "nbconvert_exporter": "python",
   "pygments_lexer": "ipython3",
   "version": "3.11.6"
  }
 },
 "nbformat": 4,
 "nbformat_minor": 2
}
